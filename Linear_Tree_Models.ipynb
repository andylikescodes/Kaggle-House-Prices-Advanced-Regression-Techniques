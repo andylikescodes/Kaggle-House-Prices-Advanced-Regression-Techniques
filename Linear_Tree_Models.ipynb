{
 "cells": [
  {
   "cell_type": "code",
   "execution_count": 31,
   "metadata": {
    "collapsed": true
   },
   "outputs": [],
   "source": [
    "import numpy as np\n",
    "import pandas as pd\n",
    "import matplotlib.pyplot as plt\n",
    "import matplotlib.colors as mcolors\n",
    "import seaborn as sns\n",
    "%matplotlib inline\n",
    "sns.set(rc={'figure.figsize': (9, 6)})"
   ]
  },
  {
   "cell_type": "code",
   "execution_count": 32,
   "metadata": {},
   "outputs": [],
   "source": [
    "df_train = pd.read_csv('train.csv')\n",
    "df_test = pd.read_csv('test.csv')\n",
    "X_cols = ['OverallQual', 'GrLivArea', 'GarageCars', 'TotalBsmtSF',\n",
    "          'MSSubClass', 'MSZoning', 'Neighborhood', 'HeatingQC', 'CentralAir', 'BsmtQual', \n",
    "          'BsmtCond', 'ExterQual', 'ExterCond', 'KitchenQual', 'GarageType', 'GarageFinish', \n",
    "          'SaleType', 'SaleCondition']\n",
    "y_cols = ['SalePrice']\n",
    "# X_train_df = df_train.loc[:,X_cols]\n",
    "# y_train_df = df_train.loc[:,y_cols]\n",
    "# X_test_df = df_test.loc[:,X_cols]"
   ]
  },
  {
   "cell_type": "code",
   "execution_count": 33,
   "metadata": {},
   "outputs": [
    {
     "data": {
      "text/plain": [
       "1458"
      ]
     },
     "execution_count": 33,
     "metadata": {},
     "output_type": "execute_result"
    }
   ],
   "source": [
    "#drop the outliers\n",
    "df_train = df_train.drop(1289)\n",
    "df_train = df_train.drop(523)\n",
    "n_train = df_train.shape[0]\n",
    "n_train"
   ]
  },
  {
   "cell_type": "code",
   "execution_count": 34,
   "metadata": {
    "collapsed": true
   },
   "outputs": [],
   "source": [
    "df = pd.concat([df_train, df_test], axis=0)"
   ]
  },
  {
   "cell_type": "code",
   "execution_count": 37,
   "metadata": {
    "scrolled": true
   },
   "outputs": [],
   "source": [
    "df = df[X_cols+y_cols]"
   ]
  },
  {
   "cell_type": "code",
   "execution_count": 38,
   "metadata": {},
   "outputs": [
    {
     "data": {
      "text/plain": [
       "OverallQual         0\n",
       "GrLivArea           0\n",
       "GarageCars          1\n",
       "TotalBsmtSF         1\n",
       "MSSubClass          0\n",
       "MSZoning            4\n",
       "Neighborhood        0\n",
       "HeatingQC           0\n",
       "CentralAir          0\n",
       "BsmtQual           81\n",
       "BsmtCond           82\n",
       "ExterQual           0\n",
       "ExterCond           0\n",
       "KitchenQual         1\n",
       "GarageType        157\n",
       "GarageFinish      159\n",
       "SaleType            1\n",
       "SaleCondition       0\n",
       "SalePrice        1459\n",
       "dtype: int64"
      ]
     },
     "execution_count": 38,
     "metadata": {},
     "output_type": "execute_result"
    }
   ],
   "source": [
    "df.isnull().sum()"
   ]
  },
  {
   "cell_type": "code",
   "execution_count": 40,
   "metadata": {},
   "outputs": [],
   "source": [
    "df.loc[df['BsmtQual'].isnull(), 'BsmtQual'] = 'NA'\n",
    "df.loc[df['BsmtCond'].isnull(), 'BsmtCond'] = 'NA'\n",
    "df.loc[df['GarageType'].isnull(), 'GarageType'] = 'NA'\n",
    "df.loc[df['GarageFinish'].isnull(), 'GarageFinish'] = 'NA'\n",
    "df.loc[df['GarageCars'].isnull(), 'GarageCars'] = df['GarageCars'].median()\n",
    "df.loc[df['TotalBsmtSF'].isnull(), 'TotalBsmtSF'] = df['TotalBsmtSF'].median()\n",
    "df.loc[df['MSZoning'].isnull(), 'MSZoning'] = df['MSZoning'].mode().values[0]\n",
    "df.loc[df['SaleType'].isnull(), 'SaleType'] = df['SaleType'].mode().values[0]\n",
    "df.loc[df['KitchenQual'].isnull(), 'KitchenQual'] = df['KitchenQual'].mode().values[0]"
   ]
  },
  {
   "cell_type": "code",
   "execution_count": 41,
   "metadata": {},
   "outputs": [
    {
     "data": {
      "text/plain": [
       "OverallQual         0\n",
       "GrLivArea           0\n",
       "GarageCars          0\n",
       "TotalBsmtSF         0\n",
       "MSSubClass          0\n",
       "MSZoning            0\n",
       "Neighborhood        0\n",
       "HeatingQC           0\n",
       "CentralAir          0\n",
       "BsmtQual            0\n",
       "BsmtCond            0\n",
       "ExterQual           0\n",
       "ExterCond           0\n",
       "KitchenQual         0\n",
       "GarageType          0\n",
       "GarageFinish        0\n",
       "SaleType            0\n",
       "SaleCondition       0\n",
       "SalePrice        1459\n",
       "dtype: int64"
      ]
     },
     "execution_count": 41,
     "metadata": {},
     "output_type": "execute_result"
    }
   ],
   "source": [
    "df.isnull().sum()"
   ]
  },
  {
   "cell_type": "code",
   "execution_count": 42,
   "metadata": {},
   "outputs": [
    {
     "data": {
      "text/plain": [
       "(2917, 19)"
      ]
     },
     "execution_count": 42,
     "metadata": {},
     "output_type": "execute_result"
    }
   ],
   "source": [
    "df.shape"
   ]
  },
  {
   "cell_type": "code",
   "execution_count": 43,
   "metadata": {
    "collapsed": true
   },
   "outputs": [],
   "source": [
    "df.loc[:, 'MSSubClass'] = df['MSSubClass'].astype(str)"
   ]
  },
  {
   "cell_type": "code",
   "execution_count": 44,
   "metadata": {},
   "outputs": [
    {
     "data": {
      "text/plain": [
       "count     2917\n",
       "unique      16\n",
       "top         20\n",
       "freq      1079\n",
       "Name: MSSubClass, dtype: object"
      ]
     },
     "execution_count": 44,
     "metadata": {},
     "output_type": "execute_result"
    }
   ],
   "source": [
    "df['MSSubClass'].describe()"
   ]
  },
  {
   "cell_type": "code",
   "execution_count": 47,
   "metadata": {},
   "outputs": [
    {
     "data": {
      "text/plain": [
       "Index(['OverallQual', 'GrLivArea', 'GarageCars', 'TotalBsmtSF', 'MSSubClass',\n",
       "       'MSZoning', 'Neighborhood', 'HeatingQC', 'CentralAir', 'BsmtQual',\n",
       "       'BsmtCond', 'ExterQual', 'ExterCond', 'KitchenQual', 'GarageType',\n",
       "       'GarageFinish', 'SaleType', 'SaleCondition', 'SalePrice'],\n",
       "      dtype='object')"
      ]
     },
     "execution_count": 47,
     "metadata": {},
     "output_type": "execute_result"
    }
   ],
   "source": [
    "df_n = df.copy()\n",
    "df_n.columns"
   ]
  },
  {
   "cell_type": "code",
   "execution_count": 48,
   "metadata": {},
   "outputs": [
    {
     "data": {
      "text/plain": [
       "<matplotlib.axes._subplots.AxesSubplot at 0x10e7a2be0>"
      ]
     },
     "execution_count": 48,
     "metadata": {},
     "output_type": "execute_result"
    },
    {
     "data": {
      "image/png": "[encoded data removed]",
      "text/plain": [
       "<matplotlib.figure.Figure at 0x10e7a2470>"
      ]
     },
     "metadata": {},
     "output_type": "display_data"
    }
   ],
   "source": [
    "df_n.loc[:,'GrLivArea'] = np.log(df_n['GrLivArea'])\n",
    "sns.distplot(df_n['GrLivArea'])"
   ]
  },
  {
   "cell_type": "code",
   "execution_count": 49,
   "metadata": {},
   "outputs": [
    {
     "data": {
      "text/plain": [
       "<matplotlib.axes._subplots.AxesSubplot at 0x10e42ce10>"
      ]
     },
     "execution_count": 49,
     "metadata": {},
     "output_type": "execute_result"
    },
    {
     "data": {
      "image/png": "[encoded data removed]",
      "text/plain": [
       "<matplotlib.figure.Figure at 0x10e7b47f0>"
      ]
     },
     "metadata": {},
     "output_type": "display_data"
    }
   ],
   "source": [
    "df_n.loc[:, 'TotalBsmtSF'] = np.log(df_n['TotalBsmtSF']+1)\n",
    "sns.distplot(df_n['TotalBsmtSF'])"
   ]
  },
  {
   "cell_type": "code",
   "execution_count": 51,
   "metadata": {},
   "outputs": [
    {
     "data": {
      "text/plain": [
       "count     2917\n",
       "unique       6\n",
       "top        2.0\n",
       "freq      1595\n",
       "Name: GarageCars, dtype: object"
      ]
     },
     "execution_count": 51,
     "metadata": {},
     "output_type": "execute_result"
    }
   ],
   "source": [
    "df_n.loc[:, 'GarageCars'] = df_n['GarageCars'].astype(str)\n",
    "df_n['GarageCars'].describe()"
   ]
  },
  {
   "cell_type": "code",
   "execution_count": 52,
   "metadata": {},
   "outputs": [
    {
     "data": {
      "text/plain": [
       "0    2.0\n",
       "1    2.0\n",
       "2    2.0\n",
       "3    3.0\n",
       "4    3.0\n",
       "Name: GarageCars, dtype: object"
      ]
     },
     "execution_count": 52,
     "metadata": {},
     "output_type": "execute_result"
    }
   ],
   "source": [
    "df_n['GarageCars'].head()"
   ]
  },
  {
   "cell_type": "code",
   "execution_count": 53,
   "metadata": {},
   "outputs": [
    {
     "data": {
      "text/plain": [
       "Index(['OverallQual', 'GrLivArea', 'GarageCars', 'TotalBsmtSF', 'MSSubClass',\n",
       "       'MSZoning', 'Neighborhood', 'HeatingQC', 'CentralAir', 'BsmtQual',\n",
       "       'BsmtCond', 'ExterQual', 'ExterCond', 'KitchenQual', 'GarageType',\n",
       "       'GarageFinish', 'SaleType', 'SaleCondition', 'SalePrice'],\n",
       "      dtype='object')"
      ]
     },
     "execution_count": 53,
     "metadata": {},
     "output_type": "execute_result"
    }
   ],
   "source": [
    "df_n.columns"
   ]
  },
  {
   "cell_type": "code",
   "execution_count": 58,
   "metadata": {},
   "outputs": [
    {
     "name": "stdout",
     "output_type": "stream",
     "text": [
      "['OverallQual', 'GrLivArea', 'TotalBsmtSF']\n"
     ]
    }
   ],
   "source": [
    "numerical_cols = []\n",
    "for col in df_n.columns:\n",
    "    if (df_n[col].dtype != object) & (col!='SalePrice'):\n",
    "        numerical_cols.append(col)\n",
    "        \n",
    "print (numerical_cols)"
   ]
  },
  {
   "cell_type": "code",
   "execution_count": 67,
   "metadata": {
    "collapsed": true
   },
   "outputs": [],
   "source": [
    "df_dummies = pd.get_dummies(df_n)"
   ]
  },
  {
   "cell_type": "code",
   "execution_count": 74,
   "metadata": {
    "collapsed": true
   },
   "outputs": [],
   "source": [
    "df_train = df_dummies.iloc[:n_train]\n",
    "df_test = df_dummies.iloc[n_train:]"
   ]
  },
  {
   "cell_type": "code",
   "execution_count": 76,
   "metadata": {},
   "outputs": [],
   "source": [
    "X_train = df_train.loc[:, df_train.columns != \"SalePrice\"].as_matrix()\n",
    "y_train = df_train[\"SalePrice\"].as_matrix()\n",
    "X_test = df_test.loc[:, df_test.columns != 'SalePrice'].as_matrix()"
   ]
  },
  {
   "cell_type": "code",
   "execution_count": 77,
   "metadata": {},
   "outputs": [
    {
     "data": {
      "text/plain": [
       "array([ 12.24769432,  12.10901093,  12.31716669, ...,  12.49312952,\n",
       "        11.86446223,  11.90158345])"
      ]
     },
     "execution_count": 77,
     "metadata": {},
     "output_type": "execute_result"
    }
   ],
   "source": [
    "y_train = np.log(y_train)\n",
    "y_train"
   ]
  },
  {
   "cell_type": "code",
   "execution_count": 78,
   "metadata": {},
   "outputs": [
    {
     "data": {
      "text/plain": [
       "GridSearchCV(cv=10, error_score='raise',\n",
       "       estimator=RandomForestRegressor(bootstrap=True, criterion='mse', max_depth=None,\n",
       "           max_features='auto', max_leaf_nodes=None,\n",
       "           min_impurity_split=1e-07, min_samples_leaf=1,\n",
       "           min_samples_split=2, min_weight_fraction_leaf=0.0,\n",
       "           n_estimators=10, n_jobs=1, oob_score=False, random_state=None,\n",
       "           verbose=0, warm_start=False),\n",
       "       fit_params={}, iid=True, n_jobs=1,\n",
       "       param_grid={'n_estimators': [100, 200, 300, 400, 500], 'max_features': [0.2, 0.3, 0.4, 0.5]},\n",
       "       pre_dispatch='2*n_jobs', refit=True, return_train_score=True,\n",
       "       scoring=None, verbose=0)"
      ]
     },
     "execution_count": 78,
     "metadata": {},
     "output_type": "execute_result"
    }
   ],
   "source": [
    "from sklearn.ensemble import RandomForestRegressor\n",
    "from sklearn.model_selection import GridSearchCV\n",
    "\n",
    "params = {'n_estimators': [100, 200, 300, 400, 500],\n",
    "          'max_features': [0.2, 0.3, 0.4, 0.5]}\n",
    "\n",
    "reg = GridSearchCV(RandomForestRegressor(), params, cv=10)\n",
    "reg.fit(X_train, y_train)"
   ]
  },
  {
   "cell_type": "code",
   "execution_count": 79,
   "metadata": {
    "collapsed": true
   },
   "outputs": [],
   "source": [
    "y_pred = reg.predict(X_test)"
   ]
  },
  {
   "cell_type": "code",
   "execution_count": 80,
   "metadata": {},
   "outputs": [
    {
     "data": {
      "text/plain": [
       "array([ 11.66185506,  11.94821174,  12.05617678, ...,  11.77795136,\n",
       "        11.5965362 ,  12.27370331])"
      ]
     },
     "execution_count": 80,
     "metadata": {},
     "output_type": "execute_result"
    }
   ],
   "source": [
    "y_pred"
   ]
  },
  {
   "cell_type": "code",
   "execution_count": 81,
   "metadata": {
    "collapsed": true
   },
   "outputs": [],
   "source": [
    "y_pred = np.exp(y_pred)"
   ]
  },
  {
   "cell_type": "code",
   "execution_count": 82,
   "metadata": {},
   "outputs": [
    {
     "data": {
      "text/plain": [
       "array([ 116059.1278447 ,  154540.54115422,  172159.52130421, ...,\n",
       "        130346.47263237,  108720.56057179,  213994.01156087])"
      ]
     },
     "execution_count": 82,
     "metadata": {},
     "output_type": "execute_result"
    }
   ],
   "source": [
    "y_pred"
   ]
  },
  {
   "cell_type": "code",
   "execution_count": 83,
   "metadata": {
    "collapsed": true
   },
   "outputs": [],
   "source": [
    "sample_submission = pd.read_csv('sample_submission.csv')\n",
    "sample_submission.loc[:,'SalePrice'] = pd.Series(y_pred)\n",
    "sample_submission.to_csv('RF1.csv', index=False)"
   ]
  },
  {
   "cell_type": "code",
   "execution_count": 84,
   "metadata": {},
   "outputs": [
    {
     "data": {
      "text/plain": [
       "{'max_features': 0.3, 'n_estimators': 300}"
      ]
     },
     "execution_count": 84,
     "metadata": {},
     "output_type": "execute_result"
    }
   ],
   "source": [
    "reg.best_params_"
   ]
  },
  {
   "cell_type": "code",
   "execution_count": 85,
   "metadata": {},
   "outputs": [
    {
     "data": {
      "text/plain": [
       "RandomForestRegressor(bootstrap=True, criterion='mse', max_depth=None,\n",
       "           max_features=0.3, max_leaf_nodes=None, min_impurity_split=1e-07,\n",
       "           min_samples_leaf=1, min_samples_split=2,\n",
       "           min_weight_fraction_leaf=0.0, n_estimators=300, n_jobs=1,\n",
       "           oob_score=False, random_state=None, verbose=0, warm_start=False)"
      ]
     },
     "execution_count": 85,
     "metadata": {},
     "output_type": "execute_result"
    }
   ],
   "source": [
    "reg_full = RandomForestRegressor(max_features=0.3, n_estimators=300)\n",
    "reg_full.fit(X_train, y_train)"
   ]
  },
  {
   "cell_type": "code",
   "execution_count": 86,
   "metadata": {
    "collapsed": true
   },
   "outputs": [],
   "source": [
    "y_pred = np.exp(reg_full.predict(X_test))"
   ]
  },
  {
   "cell_type": "code",
   "execution_count": 87,
   "metadata": {},
   "outputs": [
    {
     "data": {
      "text/plain": [
       "array([ 115581.91505009,  153934.92101049,  170605.78911261, ...,\n",
       "        132115.68753632,  109573.22710703,  208972.99379478])"
      ]
     },
     "execution_count": 87,
     "metadata": {},
     "output_type": "execute_result"
    }
   ],
   "source": [
    "y_pred"
   ]
  },
  {
   "cell_type": "code",
   "execution_count": 88,
   "metadata": {
    "collapsed": true
   },
   "outputs": [],
   "source": [
    "sample_submission = pd.read_csv('sample_submission.csv')\n",
    "sample_submission.loc[:,'SalePrice'] = pd.Series(y_pred)\n",
    "sample_submission.to_csv('RF1.csv', index=False)"
   ]
  },
  {
   "cell_type": "code",
   "execution_count": 90,
   "metadata": {},
   "outputs": [
    {
     "data": {
      "text/plain": [
       "GridSearchCV(cv=10, error_score='raise',\n",
       "       estimator=RandomForestRegressor(bootstrap=True, criterion='mse', max_depth=None,\n",
       "           max_features='auto', max_leaf_nodes=None,\n",
       "           min_impurity_split=1e-07, min_samples_leaf=1,\n",
       "           min_samples_split=2, min_weight_fraction_leaf=0.0,\n",
       "           n_estimators=10, n_jobs=1, oob_score=False, random_state=None,\n",
       "           verbose=0, warm_start=False),\n",
       "       fit_params={}, iid=True, n_jobs=1,\n",
       "       param_grid={'n_estimators': [300], 'max_features': [0.3], 'min_samples_split': [3, 5, 10, 15, 20]},\n",
       "       pre_dispatch='2*n_jobs', refit=True, return_train_score=True,\n",
       "       scoring='neg_mean_squared_error', verbose=0)"
      ]
     },
     "execution_count": 90,
     "metadata": {},
     "output_type": "execute_result"
    }
   ],
   "source": [
    "params = {'n_estimators': [300],\n",
    "          'max_features': [0.3],\n",
    "          'min_samples_split': [3, 5, 10, 15, 20]}\n",
    "\n",
    "reg = GridSearchCV(RandomForestRegressor(), params, cv=10, scoring='neg_mean_squared_error')\n",
    "reg.fit(X_train, y_train)"
   ]
  },
  {
   "cell_type": "code",
   "execution_count": 91,
   "metadata": {},
   "outputs": [
    {
     "data": {
      "text/plain": [
       "{'max_features': 0.3, 'min_samples_split': 5, 'n_estimators': 300}"
      ]
     },
     "execution_count": 91,
     "metadata": {},
     "output_type": "execute_result"
    }
   ],
   "source": [
    "reg.best_params_"
   ]
  },
  {
   "cell_type": "code",
   "execution_count": 93,
   "metadata": {},
   "outputs": [],
   "source": [
    "y_pred = np.exp(reg.predict(X_test))"
   ]
  },
  {
   "cell_type": "code",
   "execution_count": 94,
   "metadata": {
    "collapsed": true
   },
   "outputs": [],
   "source": [
    "sample_submission = pd.read_csv('sample_submission.csv')\n",
    "sample_submission.loc[:,'SalePrice'] = pd.Series(y_pred)\n",
    "sample_submission.to_csv('RF1.csv', index=False)"
   ]
  },
  {
   "cell_type": "markdown",
   "metadata": {},
   "source": [
    "# Gradient Boosting"
   ]
  },
  {
   "cell_type": "code",
   "execution_count": 98,
   "metadata": {},
   "outputs": [
    {
     "data": {
      "text/plain": [
       "GridSearchCV(cv=10, error_score='raise',\n",
       "       estimator=GradientBoostingRegressor(alpha=0.9, criterion='friedman_mse', init=None,\n",
       "             learning_rate=0.1, loss='ls', max_depth=3, max_features=None,\n",
       "             max_leaf_nodes=None, min_impurity_split=1e-07,\n",
       "             min_samples_leaf=1, min_samples_split=2,\n",
       "             min_weight_fraction_leaf=0.0, n_estimators=100,\n",
       "             presort='auto', random_state=None, subsample=1.0, verbose=0,\n",
       "             warm_start=False),\n",
       "       fit_params={}, iid=True, n_jobs=1,\n",
       "       param_grid={'n_estimators': [100, 200, 300], 'max_features': [0.3, 0.5, 1.0], 'learning_rate': [0.001, 0.01, 0.1], 'max_depth': [1, 2, 3]},\n",
       "       pre_dispatch='2*n_jobs', refit=True, return_train_score=True,\n",
       "       scoring='neg_mean_squared_error', verbose=0)"
      ]
     },
     "execution_count": 98,
     "metadata": {},
     "output_type": "execute_result"
    }
   ],
   "source": [
    "from sklearn.ensemble import GradientBoostingRegressor\n",
    "\n",
    "params = {'n_estimators': [100, 200, 300],\n",
    "          'max_features': [0.3, 0.5, 1.0],\n",
    "          'learning_rate': [0.001, 0.01, 0.1],\n",
    "          'max_depth': [1,2,3]}\n",
    "\n",
    "reg = GridSearchCV(GradientBoostingRegressor(), params, cv=10, scoring='neg_mean_squared_error')\n",
    "reg.fit(X_train, y_train)"
   ]
  },
  {
   "cell_type": "code",
   "execution_count": 99,
   "metadata": {
    "collapsed": true
   },
   "outputs": [],
   "source": [
    "y_pred = np.exp(reg.predict(X_test))\n",
    "sample_submission = pd.read_csv('sample_submission.csv')\n",
    "sample_submission.loc[:,'SalePrice'] = pd.Series(y_pred)\n",
    "sample_submission.to_csv('GradientBoosting.csv', index=False)"
   ]
  },
  {
   "cell_type": "code",
   "execution_count": 101,
   "metadata": {},
   "outputs": [
    {
     "data": {
      "text/plain": [
       "{'learning_rate': 0.1,\n",
       " 'max_depth': 2,\n",
       " 'max_features': 0.3,\n",
       " 'n_estimators': 300}"
      ]
     },
     "execution_count": 101,
     "metadata": {},
     "output_type": "execute_result"
    }
   ],
   "source": [
    "reg.best_params_"
   ]
  },
  {
   "cell_type": "code",
   "execution_count": null,
   "metadata": {
    "collapsed": true
   },
   "outputs": [],
   "source": []
  }
 ],
 "metadata": {
  "kernelspec": {
   "display_name": "Python 3",
   "language": "python",
   "name": "python3"
  },
  "language_info": {
   "codemirror_mode": {
    "name": "ipython",
    "version": 3
   },
   "file_extension": ".py",
   "mimetype": "text/x-python",
   "name": "python",
   "nbconvert_exporter": "python",
   "pygments_lexer": "ipython3",
   "version": "3.6.2"
  }
 },
 "nbformat": 4,
 "nbformat_minor": 2
}
